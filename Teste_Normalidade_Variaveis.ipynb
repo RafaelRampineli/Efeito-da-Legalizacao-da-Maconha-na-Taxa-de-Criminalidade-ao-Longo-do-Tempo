{
 "cells": [
  {
   "cell_type": "markdown",
   "metadata": {},
   "source": [
    "### Teste de Normalidade das Variáveis\n",
    "\n",
    "Muitos algoritmos de Machine Learning fazem suposições sobre os dados. Em geral, consideramos que essas suposições são verdadeiras, mas devemos tomar cuidado com isso, pois se uma suposição estiver sendo violada estaremos extraindo conclusões equivocadas de todo o processo de Ciência de Dados.\n",
    "\n",
    "E uma das suposições mais comuns é a de normalidade, ou seja, que a variável segue uma distribuição normal. Isso significa que a distribuição de probabilidades da variável (todos os possíveis valores que a variável pode assumir), tem o formato como da imagem abaixo:\n",
    "\n",
    "![title](imagens/normal.png)\n",
    "\n",
    "**Distribuição Normal**\n",
    "\n",
    "Uma distribuição normal (ou gaussiana) é uma distribuição de probabilidade contínua que possui uma função de densidade de probabilidade em forma de sino. É a distribuição de probabilidade mais proeminente em Estatística.\n",
    "\n",
    "As distribuições normais são uma família de distribuições com a mesma curva geral simétrica em forma de sino, com mais valores concentrados no meio do que nas caudas. Dois parâmetros descrevem uma distribuição normal, a média e o desvio padrão. A média é a localização central (o pico) e o desvio padrão é a dispersão. A assimetria e curtose são zero para uma distribuição normal.\n",
    "\n",
    "A distribuição normal é a base de muitas teorias estatísticas. Testes estatísticos e estimadores baseados na distribuição normal costumam ser mais poderosos do que seus equivalentes não paramétricos. Quando a suposição de distribuição pode ser atendida, elas são as melhores opções, pois isso permite usar um tamanho de amostra menor para detectar a mesma diferença.\n",
    "\n",
    "E podemos usar uma das mais úteis ferramentas da Inferência Estatística para testar essa suposição: o Teste de Hipóteses.\n",
    "\n",
    "**Teste de Hipóteses**\n",
    "\n",
    "O teste de hipóteses é o processo formal de fazer inferências a partir de uma amostra, se uma afirmação sobre a população parece ou não verdadeira.\n",
    "\n",
    "Um teste de hipóteses é um método de tomada de decisões. Você deve declarar uma hipótese nula e uma hipótese alternativa para executar um teste de hipóteses. A hipótese nula afirma o que o estudo pretende rejeitar e refutar. A hipótese alternativa é geralmente a negação da hipótese nula e afirma o que o estudo está tentando provar.\n",
    "\n",
    "Quando as hipóteses são declaradas, um teste estatístico calcula uma estatística e um valor-p. O valor-p é a probabilidade de obter uma estatística de teste pelo menos tão extrema quanto a observada quando a hipótese nula é verdadeira. É uma medida de evidência contra a hipótese nula. Quando o valor-p é pequeno, é improvável que os dados tenham ocorrido se a hipótese nula for verdadeira, para que você possa rejeitar a hipótese nula e aceitar a hipótese alternativa. Quando o valor-p é grande, você não pode rejeitar a hipótese nula; não há evidências suficientes contra isso. \n",
    "\n",
    "Não é possível provar a hipótese nula, apenas refutá-la. O valor-p não permite que você faça afirmações sobre a probabilidade da hipótese nula ser verdadeira; é uma declaração baseada na observação dos dados.\n",
    "\n",
    "Um Teste de Hipóteses testa formalmente se a população que a amostra representa é normalmente distribuída.\n",
    "\n",
    "A hipótese nula (H0) afirma que a população é normalmente distribuída, contra a hipótese alternativa (H1) de que não é normalmente distribuída. \n",
    "\n",
    "Se o valor-p do teste for menor que o nível de significância predefinido, você poderá rejeitar a hipótese nula e concluir que os dados não são de uma população com uma distribuição normal. Se o valor-p for maior que o nível de significância predefinido, você não poderá rejeitar a hipótese nula.\n",
    "\n",
    "Observe que pequenos desvios da normalidade podem produzir um valor-p estatisticamente significativo quando o tamanho da amostra é grande e, inversamente, pode ser impossível detectar a não normalidade com uma amostra pequena. Você sempre deve examinar o gráfico normal e usar seu julgamento, em vez de confiar apenas no teste de hipóteses. Muitos testes estatísticos e estimadores são robustos contra partidas moderadas na normalidade devido ao teorema central do limite central."
   ]
  },
  {
   "cell_type": "code",
   "execution_count": null,
   "metadata": {},
   "outputs": [],
   "source": []
  }
 ],
 "metadata": {
  "kernelspec": {
   "display_name": "Python 3",
   "language": "python",
   "name": "python3"
  },
  "language_info": {
   "codemirror_mode": {
    "name": "ipython",
    "version": 3
   },
   "file_extension": ".py",
   "mimetype": "text/x-python",
   "name": "python",
   "nbconvert_exporter": "python",
   "pygments_lexer": "ipython3",
   "version": "3.7.3"
  }
 },
 "nbformat": 4,
 "nbformat_minor": 2
}
