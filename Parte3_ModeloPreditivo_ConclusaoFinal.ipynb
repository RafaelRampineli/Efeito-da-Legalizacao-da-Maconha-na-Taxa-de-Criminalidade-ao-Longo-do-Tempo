{
 "cells": [
  {
   "cell_type": "markdown",
   "metadata": {},
   "source": [
    "<strong><b><font size=\"5\">Análise Estatística e Modelagem Preditiva de Séries Temporais - Em Python</font></b></strong>"
   ]
  },
  {
   "cell_type": "markdown",
   "metadata": {},
   "source": [
    "<strong><b><font size=\"5\">Projeto Final do Curso - Parte 3</font></b></strong>\n",
    "\n",
    "<strong><b><font size=\"4\">Qual o Efeito da Legalização da Maconha na Taxa de Criminalidade ao Longo do Tempo?</font></b></strong>"
   ]
  },
  {
   "cell_type": "markdown",
   "metadata": {},
   "source": [
    "Começaremos agora a Parte 3. Usaremos os 4 arquivos csv gerados na Parte 2:\n",
    "\n",
    "- df_crimes.csv\n",
    "- df_escolas.csv\n",
    "- df_lojas.csv\n",
    "- df_prisoes_parte2.csv\n",
    "\n",
    "O que faremos na Parte 3:\n",
    "\n",
    "- Modelage Preditiva\n",
    "- Análise de Séries Temporais\n",
    "- Conclusões Finais"
   ]
  },
  {
   "cell_type": "markdown",
   "metadata": {},
   "source": [
    "### Carregando os Pacotes Usados Neste Jupyter Notebook"
   ]
  },
  {
   "cell_type": "code",
   "execution_count": 1,
   "metadata": {},
   "outputs": [],
   "source": [
    "# As novas versões do Pandas e Matplotlib trazem diversas mensagens de aviso ao desenvolvedor. Vamos desativar isso.\n",
    "import sys\n",
    "import warnings\n",
    "import matplotlib.cbook\n",
    "if not sys.warnoptions:\n",
    "    warnings.simplefilter(\"ignore\")\n",
    "warnings.simplefilter(action='ignore', category=FutureWarning)\n",
    "warnings.filterwarnings(\"ignore\", category=FutureWarning)\n",
    "warnings.filterwarnings(\"ignore\", category=matplotlib.cbook.mplDeprecation)\n",
    "\n",
    "# Imports para manipulação e visualização de dados\n",
    "import math\n",
    "import numpy as np\n",
    "import pandas as pd\n",
    "import matplotlib as m\n",
    "import matplotlib.pyplot as plt\n",
    "from scipy import stats\n",
    "\n",
    "# Imports para Machine Learning\n",
    "import sklearn\n",
    "from sklearn.linear_model import LogisticRegression\n",
    "from sklearn.model_selection import train_test_split, GridSearchCV\n",
    "from sklearn.feature_extraction.text import CountVectorizer\n",
    "from sklearn.pipeline import Pipeline\n",
    "from sklearn.metrics import confusion_matrix\n",
    "from sklearn.metrics import roc_auc_score\n",
    "from sklearn.preprocessing import StandardScaler\n",
    "\n",
    "# Imports para Análise de Séries Temporais\n",
    "import pickle\n",
    "import calendar\n",
    "import statsmodels\n",
    "from statsmodels.tsa.arima_model import ARIMA, ARMA\n",
    "from sklearn.metrics import mean_squared_error\n",
    "from statsmodels.tsa.stattools import adfuller \n",
    "from statsmodels.tsa.stattools import acf, pacf\n",
    "\n",
    "# Imports para formatação dos gráficos\n",
    "m.rcParams['axes.labelsize'] = 14\n",
    "m.rcParams['xtick.labelsize'] = 12\n",
    "m.rcParams['ytick.labelsize'] = 12\n",
    "from matplotlib.pylab import rcParams \n",
    "rcParams['figure.figsize'] = 15,7\n",
    "plt.style.use('fivethirtyeight')\n",
    "%matplotlib inline"
   ]
  },
  {
   "cell_type": "code",
   "execution_count": 2,
   "metadata": {},
   "outputs": [
    {
     "name": "stdout",
     "output_type": "stream",
     "text": [
      "pandas      1.0.4\n",
      "statsmodels 0.11.1\n",
      "numpy       1.18.4\n",
      "sklearn     0.23.1\n",
      "matplotlib  3.2.1\n",
      "\n"
     ]
    }
   ],
   "source": [
    "# Versões dos pacotes usados neste jupyter notebook\n",
    "%reload_ext watermark\n",
    "%watermark --iversions"
   ]
  },
  {
   "cell_type": "markdown",
   "metadata": {},
   "source": [
    "## Modelagem Preditiva\n",
    "\n",
    "Vamos iniciar nosso trabalho criando um modelo de Machine Learning para classificação e compreendendo quais são as variáveis mais relevantes para prever a ocorrência de prisões."
   ]
  },
  {
   "cell_type": "code",
   "execution_count": 3,
   "metadata": {},
   "outputs": [],
   "source": [
    "# Carregando os dados de prisões\n",
    "df_prisoes = pd.read_csv('dados/df_prisoes_parte2.csv')"
   ]
  },
  {
   "cell_type": "code",
   "execution_count": 4,
   "metadata": {},
   "outputs": [
    {
     "data": {
      "text/plain": [
       "(6226, 14)"
      ]
     },
     "execution_count": 4,
     "metadata": {},
     "output_type": "execute_result"
    }
   ],
   "source": [
    "# Shape\n",
    "df_prisoes.shape"
   ]
  },
  {
   "cell_type": "code",
   "execution_count": 5,
   "metadata": {},
   "outputs": [
    {
     "data": {
      "text/html": [
       "<div>\n",
       "<style scoped>\n",
       "    .dataframe tbody tr th:only-of-type {\n",
       "        vertical-align: middle;\n",
       "    }\n",
       "\n",
       "    .dataframe tbody tr th {\n",
       "        vertical-align: top;\n",
       "    }\n",
       "\n",
       "    .dataframe thead th {\n",
       "        text-align: right;\n",
       "    }\n",
       "</style>\n",
       "<table border=\"1\" class=\"dataframe\">\n",
       "  <thead>\n",
       "    <tr style=\"text-align: right;\">\n",
       "      <th></th>\n",
       "      <th>Arrest Date</th>\n",
       "      <th>Time</th>\n",
       "      <th>Area Name</th>\n",
       "      <th>Age</th>\n",
       "      <th>Sex Code</th>\n",
       "      <th>Descent Code</th>\n",
       "      <th>Arrest Type Code</th>\n",
       "      <th>Charge Description</th>\n",
       "      <th>latitude</th>\n",
       "      <th>longitude</th>\n",
       "      <th>loja_0.5_milha</th>\n",
       "      <th>loja_1_milha</th>\n",
       "      <th>escola_0.5_milha</th>\n",
       "      <th>escola_1_milha</th>\n",
       "    </tr>\n",
       "  </thead>\n",
       "  <tbody>\n",
       "    <tr>\n",
       "      <th>0</th>\n",
       "      <td>2019-03-09</td>\n",
       "      <td>2015.0</td>\n",
       "      <td>Hollywood</td>\n",
       "      <td>29</td>\n",
       "      <td>M</td>\n",
       "      <td>O</td>\n",
       "      <td>F</td>\n",
       "      <td>possession marijuana for sale</td>\n",
       "      <td>34.1016</td>\n",
       "      <td>-118.3350</td>\n",
       "      <td>7</td>\n",
       "      <td>8</td>\n",
       "      <td>2</td>\n",
       "      <td>5</td>\n",
       "    </tr>\n",
       "    <tr>\n",
       "      <th>1</th>\n",
       "      <td>2019-03-09</td>\n",
       "      <td>2015.0</td>\n",
       "      <td>Hollywood</td>\n",
       "      <td>25</td>\n",
       "      <td>M</td>\n",
       "      <td>B</td>\n",
       "      <td>F</td>\n",
       "      <td>possession marijuana for sale</td>\n",
       "      <td>34.1016</td>\n",
       "      <td>-118.3350</td>\n",
       "      <td>7</td>\n",
       "      <td>8</td>\n",
       "      <td>2</td>\n",
       "      <td>5</td>\n",
       "    </tr>\n",
       "    <tr>\n",
       "      <th>2</th>\n",
       "      <td>2019-04-21</td>\n",
       "      <td>2115.0</td>\n",
       "      <td>Wilshire</td>\n",
       "      <td>42</td>\n",
       "      <td>M</td>\n",
       "      <td>B</td>\n",
       "      <td>F</td>\n",
       "      <td>poss/sale marij ovr 21 employ per 20/belw</td>\n",
       "      <td>34.0838</td>\n",
       "      <td>-118.3614</td>\n",
       "      <td>4</td>\n",
       "      <td>13</td>\n",
       "      <td>4</td>\n",
       "      <td>8</td>\n",
       "    </tr>\n",
       "    <tr>\n",
       "      <th>3</th>\n",
       "      <td>2019-05-01</td>\n",
       "      <td>1045.0</td>\n",
       "      <td>Pacific</td>\n",
       "      <td>26</td>\n",
       "      <td>M</td>\n",
       "      <td>B</td>\n",
       "      <td>F</td>\n",
       "      <td>sale/trans &gt;28.5g marijuana or &gt;4g</td>\n",
       "      <td>33.9428</td>\n",
       "      <td>-118.4054</td>\n",
       "      <td>0</td>\n",
       "      <td>0</td>\n",
       "      <td>0</td>\n",
       "      <td>0</td>\n",
       "    </tr>\n",
       "    <tr>\n",
       "      <th>4</th>\n",
       "      <td>2019-05-01</td>\n",
       "      <td>5.0</td>\n",
       "      <td>N Hollywood</td>\n",
       "      <td>27</td>\n",
       "      <td>M</td>\n",
       "      <td>B</td>\n",
       "      <td>F</td>\n",
       "      <td>sale/trans &gt;28.5g marijuana or &gt;4g</td>\n",
       "      <td>34.1667</td>\n",
       "      <td>-118.3965</td>\n",
       "      <td>0</td>\n",
       "      <td>1</td>\n",
       "      <td>3</td>\n",
       "      <td>4</td>\n",
       "    </tr>\n",
       "  </tbody>\n",
       "</table>\n",
       "</div>"
      ],
      "text/plain": [
       "  Arrest Date    Time    Area Name  Age Sex Code Descent Code  \\\n",
       "0  2019-03-09  2015.0    Hollywood   29        M            O   \n",
       "1  2019-03-09  2015.0    Hollywood   25        M            B   \n",
       "2  2019-04-21  2115.0     Wilshire   42        M            B   \n",
       "3  2019-05-01  1045.0      Pacific   26        M            B   \n",
       "4  2019-05-01     5.0  N Hollywood   27        M            B   \n",
       "\n",
       "  Arrest Type Code                         Charge Description  latitude  \\\n",
       "0                F              possession marijuana for sale   34.1016   \n",
       "1                F              possession marijuana for sale   34.1016   \n",
       "2                F  poss/sale marij ovr 21 employ per 20/belw   34.0838   \n",
       "3                F         sale/trans >28.5g marijuana or >4g   33.9428   \n",
       "4                F         sale/trans >28.5g marijuana or >4g   34.1667   \n",
       "\n",
       "   longitude  loja_0.5_milha  loja_1_milha  escola_0.5_milha  escola_1_milha  \n",
       "0  -118.3350               7             8                 2               5  \n",
       "1  -118.3350               7             8                 2               5  \n",
       "2  -118.3614               4            13                 4               8  \n",
       "3  -118.4054               0             0                 0               0  \n",
       "4  -118.3965               0             1                 3               4  "
      ]
     },
     "execution_count": 5,
     "metadata": {},
     "output_type": "execute_result"
    }
   ],
   "source": [
    "# Dados\n",
    "df_prisoes.head()"
   ]
  },
  {
   "cell_type": "code",
   "execution_count": 6,
   "metadata": {},
   "outputs": [],
   "source": [
    "# Criamos uma lista de razões para as prisões\n",
    "charge_description_list = list(df_prisoes['Charge Description'].unique())"
   ]
  },
  {
   "cell_type": "code",
   "execution_count": 9,
   "metadata": {},
   "outputs": [
    {
     "data": {
      "text/plain": [
       "['attempt - sell/furnish/etc marijuana',\n",
       " 'cultivate >6 marij plants viol envrnt law',\n",
       " 'cultivating <6 marijuana plants',\n",
       " 'furnishing marijuana to minor over 14 yrs',\n",
       " 'give/transport/etc < 28.5 grams marijuana',\n",
       " 'induce/etc minor to use/sell marijuana',\n",
       " 'minor poss 28.5+ grams marijuana/school',\n",
       " 'minor poss < 28.5 grams marijuana/school',\n",
       " 'poss for sale of marijuana to a minor',\n",
       " 'poss marijuana or concentrated cannabis',\n",
       " 'poss of more than 28.5 grams of marijuana',\n",
       " 'poss open cont/packg marij drivr/passnger',\n",
       " 'poss/sale marij ovr 21 employ per 20/belw',\n",
       " 'poss/smoke/ingest marij school/daycare/yc',\n",
       " 'possess 28.5 grams or less of marijuana',\n",
       " 'possess 28.5 grams or less of marijuana**',\n",
       " 'possess marijuana for sale',\n",
       " 'possess marijuana for sale under age 18',\n",
       " 'possess of marijuana while driving veh',\n",
       " 'possession marijuana for sale',\n",
       " 'possession of marijuana in school',\n",
       " 'sale/offer to sell/transport marijuana',\n",
       " 'sale/trans >28.5g marijuana or >4g',\n",
       " 'sale/transport marijuana to a minor',\n",
       " 'sale/transport marijuana w/priors',\n",
       " 'sell/furnish/etc marij/hash over 1 oz',\n",
       " 'smoke marij loc where smoke tobacco proh',\n",
       " 'smoke/ingest marijuana in public place',\n",
       " 'transport/etc marijuana',\n",
       " 'transport/sell/furnish/etc marijuana',\n",
       " 'unlawfully plant/cultivate/etc marijuana',\n",
       " 'use minor under 14 trans/sell marijuana']"
      ]
     },
     "execution_count": 9,
     "metadata": {},
     "output_type": "execute_result"
    }
   ],
   "source": [
    "# Ordenamos a lista\n",
    "charge_description_list.sort()\n",
    "charge_description_list"
   ]
  },
  {
   "cell_type": "markdown",
   "metadata": {},
   "source": [
    "Agora criaremos nossa variável target.\n",
    "\n",
    "A variavél target será classificado como venda ou não de maconha baseado nos motivos de prisões.\n",
    "Se no motivo existir a palava \"sale\" iremos classificar o motivo como venda."
   ]
  },
  {
   "cell_type": "code",
   "execution_count": 59,
   "metadata": {},
   "outputs": [],
   "source": [
    "# Aplicamos função map para identificar venda de maconha\n",
    "target = df_prisoes['Charge Description'].map(lambda x: 1 if ('sale' in x or 'sell' in x) else 0)"
   ]
  },
  {
   "cell_type": "code",
   "execution_count": 60,
   "metadata": {},
   "outputs": [
    {
     "data": {
      "text/plain": [
       "1    0.616929\n",
       "0    0.383071\n",
       "Name: Charge Description, dtype: float64"
      ]
     },
     "execution_count": 60,
     "metadata": {},
     "output_type": "execute_result"
    }
   ],
   "source": [
    "# Contamos os registros de cada classe e mostramos como proporção percentual\n",
    "# 1 - venda de maconha\n",
    "# 0 - Não venda\n",
    "target.value_counts(normalize = True)"
   ]
  },
  {
   "cell_type": "markdown",
   "metadata": {},
   "source": [
    "Como as classes são um pouco desequilibradas, vamos estratificá-las para que haja a mesma proporção de observações de 'venda' e 'não venda' nos conjuntos de dados de treino e teste, mais a frente."
   ]
  },
  {
   "cell_type": "code",
   "execution_count": 61,
   "metadata": {},
   "outputs": [],
   "source": [
    "# Inclui a variável no dataframe\n",
    "df_prisoes['target'] = target"
   ]
  },
  {
   "cell_type": "code",
   "execution_count": 63,
   "metadata": {},
   "outputs": [
    {
     "data": {
      "text/html": [
       "<div>\n",
       "<style scoped>\n",
       "    .dataframe tbody tr th:only-of-type {\n",
       "        vertical-align: middle;\n",
       "    }\n",
       "\n",
       "    .dataframe tbody tr th {\n",
       "        vertical-align: top;\n",
       "    }\n",
       "\n",
       "    .dataframe thead th {\n",
       "        text-align: right;\n",
       "    }\n",
       "</style>\n",
       "<table border=\"1\" class=\"dataframe\">\n",
       "  <thead>\n",
       "    <tr style=\"text-align: right;\">\n",
       "      <th></th>\n",
       "      <th>Arrest Date</th>\n",
       "      <th>Time</th>\n",
       "      <th>Area Name</th>\n",
       "      <th>Age</th>\n",
       "      <th>Sex Code</th>\n",
       "      <th>Descent Code</th>\n",
       "      <th>Arrest Type Code</th>\n",
       "      <th>Charge Description</th>\n",
       "      <th>latitude</th>\n",
       "      <th>longitude</th>\n",
       "      <th>loja_0.5_milha</th>\n",
       "      <th>loja_1_milha</th>\n",
       "      <th>escola_0.5_milha</th>\n",
       "      <th>escola_1_milha</th>\n",
       "      <th>target</th>\n",
       "    </tr>\n",
       "  </thead>\n",
       "  <tbody>\n",
       "    <tr>\n",
       "      <th>0</th>\n",
       "      <td>2019-03-09</td>\n",
       "      <td>2015.0</td>\n",
       "      <td>Hollywood</td>\n",
       "      <td>29</td>\n",
       "      <td>M</td>\n",
       "      <td>O</td>\n",
       "      <td>F</td>\n",
       "      <td>possession marijuana for sale</td>\n",
       "      <td>34.1016</td>\n",
       "      <td>-118.3350</td>\n",
       "      <td>7</td>\n",
       "      <td>8</td>\n",
       "      <td>2</td>\n",
       "      <td>5</td>\n",
       "      <td>1</td>\n",
       "    </tr>\n",
       "    <tr>\n",
       "      <th>1</th>\n",
       "      <td>2019-03-09</td>\n",
       "      <td>2015.0</td>\n",
       "      <td>Hollywood</td>\n",
       "      <td>25</td>\n",
       "      <td>M</td>\n",
       "      <td>B</td>\n",
       "      <td>F</td>\n",
       "      <td>possession marijuana for sale</td>\n",
       "      <td>34.1016</td>\n",
       "      <td>-118.3350</td>\n",
       "      <td>7</td>\n",
       "      <td>8</td>\n",
       "      <td>2</td>\n",
       "      <td>5</td>\n",
       "      <td>1</td>\n",
       "    </tr>\n",
       "    <tr>\n",
       "      <th>2</th>\n",
       "      <td>2019-04-21</td>\n",
       "      <td>2115.0</td>\n",
       "      <td>Wilshire</td>\n",
       "      <td>42</td>\n",
       "      <td>M</td>\n",
       "      <td>B</td>\n",
       "      <td>F</td>\n",
       "      <td>poss/sale marij ovr 21 employ per 20/belw</td>\n",
       "      <td>34.0838</td>\n",
       "      <td>-118.3614</td>\n",
       "      <td>4</td>\n",
       "      <td>13</td>\n",
       "      <td>4</td>\n",
       "      <td>8</td>\n",
       "      <td>1</td>\n",
       "    </tr>\n",
       "    <tr>\n",
       "      <th>3</th>\n",
       "      <td>2019-05-01</td>\n",
       "      <td>1045.0</td>\n",
       "      <td>Pacific</td>\n",
       "      <td>26</td>\n",
       "      <td>M</td>\n",
       "      <td>B</td>\n",
       "      <td>F</td>\n",
       "      <td>sale/trans &gt;28.5g marijuana or &gt;4g</td>\n",
       "      <td>33.9428</td>\n",
       "      <td>-118.4054</td>\n",
       "      <td>0</td>\n",
       "      <td>0</td>\n",
       "      <td>0</td>\n",
       "      <td>0</td>\n",
       "      <td>1</td>\n",
       "    </tr>\n",
       "    <tr>\n",
       "      <th>4</th>\n",
       "      <td>2019-05-01</td>\n",
       "      <td>5.0</td>\n",
       "      <td>N Hollywood</td>\n",
       "      <td>27</td>\n",
       "      <td>M</td>\n",
       "      <td>B</td>\n",
       "      <td>F</td>\n",
       "      <td>sale/trans &gt;28.5g marijuana or &gt;4g</td>\n",
       "      <td>34.1667</td>\n",
       "      <td>-118.3965</td>\n",
       "      <td>0</td>\n",
       "      <td>1</td>\n",
       "      <td>3</td>\n",
       "      <td>4</td>\n",
       "      <td>1</td>\n",
       "    </tr>\n",
       "  </tbody>\n",
       "</table>\n",
       "</div>"
      ],
      "text/plain": [
       "  Arrest Date    Time    Area Name  Age Sex Code Descent Code  \\\n",
       "0  2019-03-09  2015.0    Hollywood   29        M            O   \n",
       "1  2019-03-09  2015.0    Hollywood   25        M            B   \n",
       "2  2019-04-21  2115.0     Wilshire   42        M            B   \n",
       "3  2019-05-01  1045.0      Pacific   26        M            B   \n",
       "4  2019-05-01     5.0  N Hollywood   27        M            B   \n",
       "\n",
       "  Arrest Type Code                         Charge Description  latitude  \\\n",
       "0                F              possession marijuana for sale   34.1016   \n",
       "1                F              possession marijuana for sale   34.1016   \n",
       "2                F  poss/sale marij ovr 21 employ per 20/belw   34.0838   \n",
       "3                F         sale/trans >28.5g marijuana or >4g   33.9428   \n",
       "4                F         sale/trans >28.5g marijuana or >4g   34.1667   \n",
       "\n",
       "   longitude  loja_0.5_milha  loja_1_milha  escola_0.5_milha  escola_1_milha  \\\n",
       "0  -118.3350               7             8                 2               5   \n",
       "1  -118.3350               7             8                 2               5   \n",
       "2  -118.3614               4            13                 4               8   \n",
       "3  -118.4054               0             0                 0               0   \n",
       "4  -118.3965               0             1                 3               4   \n",
       "\n",
       "   target  \n",
       "0       1  \n",
       "1       1  \n",
       "2       1  \n",
       "3       1  \n",
       "4       1  "
      ]
     },
     "execution_count": 63,
     "metadata": {},
     "output_type": "execute_result"
    }
   ],
   "source": [
    "# Dados\n",
    "df_prisoes.head()"
   ]
  },
  {
   "cell_type": "markdown",
   "metadata": {},
   "source": [
    "Variável target incluída. Vamos checar algumas correlações."
   ]
  },
  {
   "cell_type": "code",
   "execution_count": 17,
   "metadata": {},
   "outputs": [
    {
     "data": {
      "text/html": [
       "<div>\n",
       "<style scoped>\n",
       "    .dataframe tbody tr th:only-of-type {\n",
       "        vertical-align: middle;\n",
       "    }\n",
       "\n",
       "    .dataframe tbody tr th {\n",
       "        vertical-align: top;\n",
       "    }\n",
       "\n",
       "    .dataframe thead th {\n",
       "        text-align: right;\n",
       "    }\n",
       "</style>\n",
       "<table border=\"1\" class=\"dataframe\">\n",
       "  <thead>\n",
       "    <tr style=\"text-align: right;\">\n",
       "      <th></th>\n",
       "      <th>loja_0.5_milha</th>\n",
       "      <th>loja_1_milha</th>\n",
       "    </tr>\n",
       "  </thead>\n",
       "  <tbody>\n",
       "    <tr>\n",
       "      <th>loja_0.5_milha</th>\n",
       "      <td>1.000000</td>\n",
       "      <td>0.825199</td>\n",
       "    </tr>\n",
       "    <tr>\n",
       "      <th>loja_1_milha</th>\n",
       "      <td>0.825199</td>\n",
       "      <td>1.000000</td>\n",
       "    </tr>\n",
       "  </tbody>\n",
       "</table>\n",
       "</div>"
      ],
      "text/plain": [
       "                loja_0.5_milha  loja_1_milha\n",
       "loja_0.5_milha        1.000000      0.825199\n",
       "loja_1_milha          0.825199      1.000000"
      ]
     },
     "execution_count": 17,
     "metadata": {},
     "output_type": "execute_result"
    }
   ],
   "source": [
    "# Correlação entre as variáves de distância do ponto de venda\n",
    "df_prisoes[['loja_0.5_milha', 'loja_1_milha']].corr()"
   ]
  },
  {
   "cell_type": "code",
   "execution_count": 18,
   "metadata": {},
   "outputs": [
    {
     "data": {
      "text/html": [
       "<div>\n",
       "<style scoped>\n",
       "    .dataframe tbody tr th:only-of-type {\n",
       "        vertical-align: middle;\n",
       "    }\n",
       "\n",
       "    .dataframe tbody tr th {\n",
       "        vertical-align: top;\n",
       "    }\n",
       "\n",
       "    .dataframe thead th {\n",
       "        text-align: right;\n",
       "    }\n",
       "</style>\n",
       "<table border=\"1\" class=\"dataframe\">\n",
       "  <thead>\n",
       "    <tr style=\"text-align: right;\">\n",
       "      <th></th>\n",
       "      <th>escola_0.5_milha</th>\n",
       "      <th>escola_1_milha</th>\n",
       "    </tr>\n",
       "  </thead>\n",
       "  <tbody>\n",
       "    <tr>\n",
       "      <th>escola_0.5_milha</th>\n",
       "      <td>1.000000</td>\n",
       "      <td>0.777587</td>\n",
       "    </tr>\n",
       "    <tr>\n",
       "      <th>escola_1_milha</th>\n",
       "      <td>0.777587</td>\n",
       "      <td>1.000000</td>\n",
       "    </tr>\n",
       "  </tbody>\n",
       "</table>\n",
       "</div>"
      ],
      "text/plain": [
       "                  escola_0.5_milha  escola_1_milha\n",
       "escola_0.5_milha          1.000000        0.777587\n",
       "escola_1_milha            0.777587        1.000000"
      ]
     },
     "execution_count": 18,
     "metadata": {},
     "output_type": "execute_result"
    }
   ],
   "source": [
    "# Correlação entre as variáves de distância da escola\n",
    "df_prisoes[['escola_0.5_milha', 'escola_1_milha']].corr()"
   ]
  },
  {
   "cell_type": "markdown",
   "metadata": {},
   "source": [
    "As variáveis estão altamente correlacionadas e isso é ruim para o modelo. Precisamos remover uma variável de cada par que avaliamos."
   ]
  },
  {
   "cell_type": "code",
   "execution_count": 64,
   "metadata": {},
   "outputs": [],
   "source": [
    "# Remove variáveis que posssuem correlação (loja 0.5 e escola 0.5), permanecendo somente as a 1 milha de distancia. \n",
    "# O restante das variáveis estarão no dataset X que serão nossas variáives independentes.\n",
    "X = df_prisoes.drop(['loja_0.5_milha', 'escola_0.5_milha'], 1)"
   ]
  },
  {
   "cell_type": "code",
   "execution_count": 66,
   "metadata": {},
   "outputs": [],
   "source": [
    "# Vamos remover as variáveis de data, motivo da prisão e target do nosso dataset X\n",
    "X = X.drop(['Arrest Date', 'Charge Description', 'target'],1)"
   ]
  },
  {
   "cell_type": "code",
   "execution_count": 69,
   "metadata": {},
   "outputs": [],
   "source": [
    "# Criamos variáveis dummy para as variáveis categóricas, pois assim trabalhamos apenas com variáveis numéricas.\n",
    "# Na criação de variáveis dummy, todas as possibilidade de valores das variáveis categóricas se tornaram uma coluna no dataset\n",
    "# que são preenchidos com valores binários {0.1}\n",
    "# https://pandas.pydata.org/pandas-docs/stable/reference/api/pandas.get_dummies.html\n",
    "X = pd.get_dummies(X)"
   ]
  },
  {
   "cell_type": "code",
   "execution_count": 70,
   "metadata": {},
   "outputs": [
    {
     "data": {
      "text/html": [
       "<div>\n",
       "<style scoped>\n",
       "    .dataframe tbody tr th:only-of-type {\n",
       "        vertical-align: middle;\n",
       "    }\n",
       "\n",
       "    .dataframe tbody tr th {\n",
       "        vertical-align: top;\n",
       "    }\n",
       "\n",
       "    .dataframe thead th {\n",
       "        text-align: right;\n",
       "    }\n",
       "</style>\n",
       "<table border=\"1\" class=\"dataframe\">\n",
       "  <thead>\n",
       "    <tr style=\"text-align: right;\">\n",
       "      <th></th>\n",
       "      <th>Time</th>\n",
       "      <th>Age</th>\n",
       "      <th>latitude</th>\n",
       "      <th>longitude</th>\n",
       "      <th>loja_1_milha</th>\n",
       "      <th>escola_1_milha</th>\n",
       "      <th>Area Name_77th Street</th>\n",
       "      <th>Area Name_Central</th>\n",
       "      <th>Area Name_Devonshire</th>\n",
       "      <th>Area Name_Foothill</th>\n",
       "      <th>...</th>\n",
       "      <th>Descent Code_F</th>\n",
       "      <th>Descent Code_G</th>\n",
       "      <th>Descent Code_H</th>\n",
       "      <th>Descent Code_O</th>\n",
       "      <th>Descent Code_P</th>\n",
       "      <th>Descent Code_W</th>\n",
       "      <th>Descent Code_X</th>\n",
       "      <th>Arrest Type Code_F</th>\n",
       "      <th>Arrest Type Code_I</th>\n",
       "      <th>Arrest Type Code_M</th>\n",
       "    </tr>\n",
       "  </thead>\n",
       "  <tbody>\n",
       "    <tr>\n",
       "      <th>0</th>\n",
       "      <td>2015.0</td>\n",
       "      <td>29</td>\n",
       "      <td>34.1016</td>\n",
       "      <td>-118.3350</td>\n",
       "      <td>8</td>\n",
       "      <td>5</td>\n",
       "      <td>0</td>\n",
       "      <td>0</td>\n",
       "      <td>0</td>\n",
       "      <td>0</td>\n",
       "      <td>...</td>\n",
       "      <td>0</td>\n",
       "      <td>0</td>\n",
       "      <td>0</td>\n",
       "      <td>1</td>\n",
       "      <td>0</td>\n",
       "      <td>0</td>\n",
       "      <td>0</td>\n",
       "      <td>1</td>\n",
       "      <td>0</td>\n",
       "      <td>0</td>\n",
       "    </tr>\n",
       "    <tr>\n",
       "      <th>1</th>\n",
       "      <td>2015.0</td>\n",
       "      <td>25</td>\n",
       "      <td>34.1016</td>\n",
       "      <td>-118.3350</td>\n",
       "      <td>8</td>\n",
       "      <td>5</td>\n",
       "      <td>0</td>\n",
       "      <td>0</td>\n",
       "      <td>0</td>\n",
       "      <td>0</td>\n",
       "      <td>...</td>\n",
       "      <td>0</td>\n",
       "      <td>0</td>\n",
       "      <td>0</td>\n",
       "      <td>0</td>\n",
       "      <td>0</td>\n",
       "      <td>0</td>\n",
       "      <td>0</td>\n",
       "      <td>1</td>\n",
       "      <td>0</td>\n",
       "      <td>0</td>\n",
       "    </tr>\n",
       "    <tr>\n",
       "      <th>2</th>\n",
       "      <td>2115.0</td>\n",
       "      <td>42</td>\n",
       "      <td>34.0838</td>\n",
       "      <td>-118.3614</td>\n",
       "      <td>13</td>\n",
       "      <td>8</td>\n",
       "      <td>0</td>\n",
       "      <td>0</td>\n",
       "      <td>0</td>\n",
       "      <td>0</td>\n",
       "      <td>...</td>\n",
       "      <td>0</td>\n",
       "      <td>0</td>\n",
       "      <td>0</td>\n",
       "      <td>0</td>\n",
       "      <td>0</td>\n",
       "      <td>0</td>\n",
       "      <td>0</td>\n",
       "      <td>1</td>\n",
       "      <td>0</td>\n",
       "      <td>0</td>\n",
       "    </tr>\n",
       "    <tr>\n",
       "      <th>3</th>\n",
       "      <td>1045.0</td>\n",
       "      <td>26</td>\n",
       "      <td>33.9428</td>\n",
       "      <td>-118.4054</td>\n",
       "      <td>0</td>\n",
       "      <td>0</td>\n",
       "      <td>0</td>\n",
       "      <td>0</td>\n",
       "      <td>0</td>\n",
       "      <td>0</td>\n",
       "      <td>...</td>\n",
       "      <td>0</td>\n",
       "      <td>0</td>\n",
       "      <td>0</td>\n",
       "      <td>0</td>\n",
       "      <td>0</td>\n",
       "      <td>0</td>\n",
       "      <td>0</td>\n",
       "      <td>1</td>\n",
       "      <td>0</td>\n",
       "      <td>0</td>\n",
       "    </tr>\n",
       "    <tr>\n",
       "      <th>4</th>\n",
       "      <td>5.0</td>\n",
       "      <td>27</td>\n",
       "      <td>34.1667</td>\n",
       "      <td>-118.3965</td>\n",
       "      <td>1</td>\n",
       "      <td>4</td>\n",
       "      <td>0</td>\n",
       "      <td>0</td>\n",
       "      <td>0</td>\n",
       "      <td>0</td>\n",
       "      <td>...</td>\n",
       "      <td>0</td>\n",
       "      <td>0</td>\n",
       "      <td>0</td>\n",
       "      <td>0</td>\n",
       "      <td>0</td>\n",
       "      <td>0</td>\n",
       "      <td>0</td>\n",
       "      <td>1</td>\n",
       "      <td>0</td>\n",
       "      <td>0</td>\n",
       "    </tr>\n",
       "  </tbody>\n",
       "</table>\n",
       "<p>5 rows × 42 columns</p>\n",
       "</div>"
      ],
      "text/plain": [
       "     Time  Age  latitude  longitude  loja_1_milha  escola_1_milha  \\\n",
       "0  2015.0   29   34.1016  -118.3350             8               5   \n",
       "1  2015.0   25   34.1016  -118.3350             8               5   \n",
       "2  2115.0   42   34.0838  -118.3614            13               8   \n",
       "3  1045.0   26   33.9428  -118.4054             0               0   \n",
       "4     5.0   27   34.1667  -118.3965             1               4   \n",
       "\n",
       "   Area Name_77th Street  Area Name_Central  Area Name_Devonshire  \\\n",
       "0                      0                  0                     0   \n",
       "1                      0                  0                     0   \n",
       "2                      0                  0                     0   \n",
       "3                      0                  0                     0   \n",
       "4                      0                  0                     0   \n",
       "\n",
       "   Area Name_Foothill  ...  Descent Code_F  Descent Code_G  Descent Code_H  \\\n",
       "0                   0  ...               0               0               0   \n",
       "1                   0  ...               0               0               0   \n",
       "2                   0  ...               0               0               0   \n",
       "3                   0  ...               0               0               0   \n",
       "4                   0  ...               0               0               0   \n",
       "\n",
       "   Descent Code_O  Descent Code_P  Descent Code_W  Descent Code_X  \\\n",
       "0               1               0               0               0   \n",
       "1               0               0               0               0   \n",
       "2               0               0               0               0   \n",
       "3               0               0               0               0   \n",
       "4               0               0               0               0   \n",
       "\n",
       "   Arrest Type Code_F  Arrest Type Code_I  Arrest Type Code_M  \n",
       "0                   1                   0                   0  \n",
       "1                   1                   0                   0  \n",
       "2                   1                   0                   0  \n",
       "3                   1                   0                   0  \n",
       "4                   1                   0                   0  \n",
       "\n",
       "[5 rows x 42 columns]"
      ]
     },
     "execution_count": 70,
     "metadata": {},
     "output_type": "execute_result"
    }
   ],
   "source": [
    "# Dados\n",
    "X.head()"
   ]
  },
  {
   "cell_type": "code",
   "execution_count": 71,
   "metadata": {},
   "outputs": [],
   "source": [
    "# Colocando a variável target em uma variável isolada\n",
    "y = df_prisoes['target']"
   ]
  },
  {
   "cell_type": "code",
   "execution_count": 72,
   "metadata": {},
   "outputs": [
    {
     "data": {
      "text/plain": [
       "0    1\n",
       "1    1\n",
       "2    1\n",
       "3    1\n",
       "4    1\n",
       "Name: target, dtype: int64"
      ]
     },
     "execution_count": 72,
     "metadata": {},
     "output_type": "execute_result"
    }
   ],
   "source": [
    "# Dados\n",
    "y.head()"
   ]
  },
  {
   "cell_type": "code",
   "execution_count": 75,
   "metadata": {},
   "outputs": [],
   "source": [
    "# Divisão em dados de treino e teste\n",
    "# Devido ao desbalanceamento dos dados como observamos anteriormente 61% dos dados são motivos de venda de maconha e 39% não venda\n",
    "# Utilizamos o parâmetro stratify para garantir que teremos 61% de dados de uma classe e 39% de outra classe.\n",
    "X_treino, X_teste, y_treino, y_teste = train_test_split(X, y, random_state = 42, stratify = y, test_size = 0.25)"
   ]
  },
  {
   "cell_type": "code",
   "execution_count": 76,
   "metadata": {},
   "outputs": [],
   "source": [
    "# Cria o modelo de regressão logistica, utilizado para problemas de classificação\n",
    "modelo_lr = LogisticRegression()"
   ]
  },
  {
   "cell_type": "code",
   "execution_count": 77,
   "metadata": {},
   "outputs": [
    {
     "data": {
      "text/plain": [
       "LogisticRegression()"
      ]
     },
     "execution_count": 77,
     "metadata": {},
     "output_type": "execute_result"
    }
   ],
   "source": [
    "# Treinamento do modelo\n",
    "modelo_lr.fit(X_treino, y_treino)"
   ]
  },
  {
   "cell_type": "code",
   "execution_count": 78,
   "metadata": {},
   "outputs": [
    {
     "name": "stdout",
     "output_type": "stream",
     "text": [
      "Acurácia em Treino: 87.0\n"
     ]
    }
   ],
   "source": [
    "# Avalia a acurácia nos dados de treino\n",
    "acc_treino = modelo_lr.score(X_treino, y_treino)\n",
    "print(f'Acurácia em Treino: {round(acc_treino, 2) * 100}')"
   ]
  },
  {
   "cell_type": "code",
   "execution_count": 79,
   "metadata": {},
   "outputs": [
    {
     "name": "stdout",
     "output_type": "stream",
     "text": [
      "Acurácia em Teste: 89.0\n"
     ]
    }
   ],
   "source": [
    "# Avalia a acurácia em teste\n",
    "acc_teste = modelo_lr.score(X_teste, y_teste)\n",
    "print(f'Acurácia em Teste: {round(acc_teste, 2) * 100}')"
   ]
  },
  {
   "cell_type": "markdown",
   "metadata": {},
   "source": [
    "Estamos com boa acurácia. Vamos extrair os coeficientes e realizar mais algumas análises."
   ]
  },
  {
   "cell_type": "code",
   "execution_count": 80,
   "metadata": {},
   "outputs": [],
   "source": [
    "# Coeficientes beta de cada variável do modelo\n",
    "beta = modelo_lr.coef_[0]"
   ]
  },
  {
   "cell_type": "code",
   "execution_count": 83,
   "metadata": {},
   "outputs": [],
   "source": [
    "# Atributos (Variáveis do dataset)\n",
    "atributos = list(X.columns)"
   ]
  },
  {
   "cell_type": "code",
   "execution_count": 85,
   "metadata": {},
   "outputs": [],
   "source": [
    "# Criamos um dataframe associando os coeficientes aos atributos e ajustamos o índice\n",
    "beta_df = pd.DataFrame({'atributos': atributos, 'beta' :beta})\n",
    "beta_df.set_index('atributos', inplace = True)"
   ]
  },
  {
   "cell_type": "code",
   "execution_count": 86,
   "metadata": {},
   "outputs": [
    {
     "data": {
      "text/html": [
       "<div>\n",
       "<style scoped>\n",
       "    .dataframe tbody tr th:only-of-type {\n",
       "        vertical-align: middle;\n",
       "    }\n",
       "\n",
       "    .dataframe tbody tr th {\n",
       "        vertical-align: top;\n",
       "    }\n",
       "\n",
       "    .dataframe thead th {\n",
       "        text-align: right;\n",
       "    }\n",
       "</style>\n",
       "<table border=\"1\" class=\"dataframe\">\n",
       "  <thead>\n",
       "    <tr style=\"text-align: right;\">\n",
       "      <th></th>\n",
       "      <th>beta</th>\n",
       "    </tr>\n",
       "    <tr>\n",
       "      <th>atributos</th>\n",
       "      <th></th>\n",
       "    </tr>\n",
       "  </thead>\n",
       "  <tbody>\n",
       "    <tr>\n",
       "      <th>Time</th>\n",
       "      <td>-0.000258</td>\n",
       "    </tr>\n",
       "    <tr>\n",
       "      <th>Age</th>\n",
       "      <td>-0.032401</td>\n",
       "    </tr>\n",
       "    <tr>\n",
       "      <th>latitude</th>\n",
       "      <td>-0.235090</td>\n",
       "    </tr>\n",
       "    <tr>\n",
       "      <th>longitude</th>\n",
       "      <td>-0.079885</td>\n",
       "    </tr>\n",
       "    <tr>\n",
       "      <th>loja_1_milha</th>\n",
       "      <td>-0.018671</td>\n",
       "    </tr>\n",
       "  </tbody>\n",
       "</table>\n",
       "</div>"
      ],
      "text/plain": [
       "                  beta\n",
       "atributos             \n",
       "Time         -0.000258\n",
       "Age          -0.032401\n",
       "latitude     -0.235090\n",
       "longitude    -0.079885\n",
       "loja_1_milha -0.018671"
      ]
     },
     "execution_count": 86,
     "metadata": {},
     "output_type": "execute_result"
    }
   ],
   "source": [
    "# Dados\n",
    "beta_df.head()"
   ]
  },
  {
   "cell_type": "code",
   "execution_count": 87,
   "metadata": {},
   "outputs": [],
   "source": [
    "# Vamos extrair o Log ODD\n",
    "beta_df['log_odds'] = beta_df['beta'].map(lambda x: np.exp(x))"
   ]
  },
  {
   "cell_type": "code",
   "execution_count": 88,
   "metadata": {},
   "outputs": [],
   "source": [
    "# Ordenamos os dados\n",
    "beta_df = beta_df.sort_values('log_odds', ascending = False)"
   ]
  },
  {
   "cell_type": "code",
   "execution_count": 89,
   "metadata": {},
   "outputs": [
    {
     "data": {
      "text/html": [
       "<div>\n",
       "<style scoped>\n",
       "    .dataframe tbody tr th:only-of-type {\n",
       "        vertical-align: middle;\n",
       "    }\n",
       "\n",
       "    .dataframe tbody tr th {\n",
       "        vertical-align: top;\n",
       "    }\n",
       "\n",
       "    .dataframe thead th {\n",
       "        text-align: right;\n",
       "    }\n",
       "</style>\n",
       "<table border=\"1\" class=\"dataframe\">\n",
       "  <thead>\n",
       "    <tr style=\"text-align: right;\">\n",
       "      <th></th>\n",
       "      <th>beta</th>\n",
       "      <th>log_odds</th>\n",
       "    </tr>\n",
       "    <tr>\n",
       "      <th>atributos</th>\n",
       "      <th></th>\n",
       "      <th></th>\n",
       "    </tr>\n",
       "  </thead>\n",
       "  <tbody>\n",
       "    <tr>\n",
       "      <th>Arrest Type Code_F</th>\n",
       "      <td>2.703069</td>\n",
       "      <td>14.925464</td>\n",
       "    </tr>\n",
       "    <tr>\n",
       "      <th>Descent Code_B</th>\n",
       "      <td>0.619410</td>\n",
       "      <td>1.857831</td>\n",
       "    </tr>\n",
       "    <tr>\n",
       "      <th>Area Name_Southeast</th>\n",
       "      <td>0.489421</td>\n",
       "      <td>1.631371</td>\n",
       "    </tr>\n",
       "    <tr>\n",
       "      <th>Area Name_Pacific</th>\n",
       "      <td>0.343590</td>\n",
       "      <td>1.410001</td>\n",
       "    </tr>\n",
       "    <tr>\n",
       "      <th>Sex Code_F</th>\n",
       "      <td>0.151044</td>\n",
       "      <td>1.163048</td>\n",
       "    </tr>\n",
       "    <tr>\n",
       "      <th>Area Name_Central</th>\n",
       "      <td>0.129792</td>\n",
       "      <td>1.138591</td>\n",
       "    </tr>\n",
       "    <tr>\n",
       "      <th>Area Name_77th Street</th>\n",
       "      <td>0.127493</td>\n",
       "      <td>1.135977</td>\n",
       "    </tr>\n",
       "    <tr>\n",
       "      <th>Area Name_Harbor</th>\n",
       "      <td>0.117278</td>\n",
       "      <td>1.124432</td>\n",
       "    </tr>\n",
       "    <tr>\n",
       "      <th>Area Name_Southwest</th>\n",
       "      <td>0.055373</td>\n",
       "      <td>1.056935</td>\n",
       "    </tr>\n",
       "    <tr>\n",
       "      <th>Area Name_Hollywood</th>\n",
       "      <td>0.028771</td>\n",
       "      <td>1.029189</td>\n",
       "    </tr>\n",
       "  </tbody>\n",
       "</table>\n",
       "</div>"
      ],
      "text/plain": [
       "                           beta   log_odds\n",
       "atributos                                 \n",
       "Arrest Type Code_F     2.703069  14.925464\n",
       "Descent Code_B         0.619410   1.857831\n",
       "Area Name_Southeast    0.489421   1.631371\n",
       "Area Name_Pacific      0.343590   1.410001\n",
       "Sex Code_F             0.151044   1.163048\n",
       "Area Name_Central      0.129792   1.138591\n",
       "Area Name_77th Street  0.127493   1.135977\n",
       "Area Name_Harbor       0.117278   1.124432\n",
       "Area Name_Southwest    0.055373   1.056935\n",
       "Area Name_Hollywood    0.028771   1.029189"
      ]
     },
     "execution_count": 89,
     "metadata": {},
     "output_type": "execute_result"
    }
   ],
   "source": [
    "# Dados\n",
    "beta_df.head(10)"
   ]
  },
  {
   "cell_type": "markdown",
   "metadata": {},
   "source": [
    "Todas as variáveis são relevantes para a previsão de prisão por venda de maconha."
   ]
  },
  {
   "cell_type": "code",
   "execution_count": 90,
   "metadata": {},
   "outputs": [
    {
     "data": {
      "text/html": [
       "<div>\n",
       "<style scoped>\n",
       "    .dataframe tbody tr th:only-of-type {\n",
       "        vertical-align: middle;\n",
       "    }\n",
       "\n",
       "    .dataframe tbody tr th {\n",
       "        vertical-align: top;\n",
       "    }\n",
       "\n",
       "    .dataframe thead th {\n",
       "        text-align: right;\n",
       "    }\n",
       "</style>\n",
       "<table border=\"1\" class=\"dataframe\">\n",
       "  <thead>\n",
       "    <tr style=\"text-align: right;\">\n",
       "      <th></th>\n",
       "      <th>beta</th>\n",
       "      <th>log_odds</th>\n",
       "    </tr>\n",
       "    <tr>\n",
       "      <th>atributos</th>\n",
       "      <th></th>\n",
       "      <th></th>\n",
       "    </tr>\n",
       "  </thead>\n",
       "  <tbody>\n",
       "    <tr>\n",
       "      <th>escola_1_milha</th>\n",
       "      <td>-0.027594</td>\n",
       "      <td>0.972784</td>\n",
       "    </tr>\n",
       "  </tbody>\n",
       "</table>\n",
       "</div>"
      ],
      "text/plain": [
       "                    beta  log_odds\n",
       "atributos                         \n",
       "escola_1_milha -0.027594  0.972784"
      ]
     },
     "execution_count": 90,
     "metadata": {},
     "output_type": "execute_result"
    }
   ],
   "source": [
    "# Vamos verificar os registros de escolas a 1 milha de distância\n",
    "beta_df[beta_df.index == 'escola_1_milha']"
   ]
  },
  {
   "cell_type": "markdown",
   "metadata": {},
   "source": [
    "O modelo de Regressão Logística permite extrair não apenas previsões de classe, mas também as probabilidades. Vejamos que análises podemos fazer com isso."
   ]
  },
  {
   "cell_type": "code",
   "execution_count": 102,
   "metadata": {},
   "outputs": [
    {
     "data": {
      "text/plain": [
       "array([[0.84526881, 0.15473119],\n",
       "       [0.09730133, 0.90269867],\n",
       "       [0.05331647, 0.94668353],\n",
       "       ...,\n",
       "       [0.08074155, 0.91925845],\n",
       "       [0.04145938, 0.95854062],\n",
       "       [0.09492145, 0.90507855]])"
      ]
     },
     "execution_count": 102,
     "metadata": {},
     "output_type": "execute_result"
    }
   ],
   "source": [
    "# O resultado da previsão em probabilidade é relacionado as 2 categorias que temos:\n",
    "# 0 > Não venda\n",
    "# 1 > Venda Maconha\n",
    "\n",
    "# O primeiro valor do array representa a categoria 0, e o segundo o 1.\n",
    "# Analisando o primeiro registro, temos 85% de probabilidade de não ser uma prisão relacionada a venda de maconha e\n",
    "# 15% de probabilidade de ter sido uma prisão relacionado a venda de maconha.\n",
    "modelo_lr.predict_proba(X_teste)"
   ]
  },
  {
   "cell_type": "code",
   "execution_count": 91,
   "metadata": {},
   "outputs": [],
   "source": [
    "# Probabilidades da prisão por venda de maconha (classe target = 1)\n",
    "prob_prisao_venda = modelo_lr.predict_proba(X_teste)[:,1]"
   ]
  },
  {
   "cell_type": "code",
   "execution_count": 103,
   "metadata": {},
   "outputs": [
    {
     "data": {
      "text/plain": [
       "array([0.15473119, 0.90269867, 0.94668353, ..., 0.91925845, 0.95854062,\n",
       "       0.90507855])"
      ]
     },
     "execution_count": 103,
     "metadata": {},
     "output_type": "execute_result"
    }
   ],
   "source": [
    "# Probabilidades de ter sido uma prisão decorrente da venda de maconha.\n",
    "prob_prisao_venda"
   ]
  },
  {
   "cell_type": "code",
   "execution_count": 104,
   "metadata": {},
   "outputs": [],
   "source": [
    "# Cria um dataframe com valores reais de teste e probabilidades previstas pelo modelo.\n",
    "pred_df = pd.DataFrame({'valores_reais': y_teste, 'valores_previstos':prob_prisao_venda})"
   ]
  },
  {
   "cell_type": "code",
   "execution_count": 109,
   "metadata": {},
   "outputs": [
    {
     "data": {
      "text/html": [
       "<div>\n",
       "<style scoped>\n",
       "    .dataframe tbody tr th:only-of-type {\n",
       "        vertical-align: middle;\n",
       "    }\n",
       "\n",
       "    .dataframe tbody tr th {\n",
       "        vertical-align: top;\n",
       "    }\n",
       "\n",
       "    .dataframe thead th {\n",
       "        text-align: right;\n",
       "    }\n",
       "</style>\n",
       "<table border=\"1\" class=\"dataframe\">\n",
       "  <thead>\n",
       "    <tr style=\"text-align: right;\">\n",
       "      <th></th>\n",
       "      <th>valores_reais</th>\n",
       "      <th>valores_previstos</th>\n",
       "    </tr>\n",
       "  </thead>\n",
       "  <tbody>\n",
       "    <tr>\n",
       "      <th>1780</th>\n",
       "      <td>0</td>\n",
       "      <td>0.154731</td>\n",
       "    </tr>\n",
       "    <tr>\n",
       "      <th>2379</th>\n",
       "      <td>0</td>\n",
       "      <td>0.902699</td>\n",
       "    </tr>\n",
       "    <tr>\n",
       "      <th>3731</th>\n",
       "      <td>1</td>\n",
       "      <td>0.946684</td>\n",
       "    </tr>\n",
       "    <tr>\n",
       "      <th>6068</th>\n",
       "      <td>1</td>\n",
       "      <td>0.910203</td>\n",
       "    </tr>\n",
       "    <tr>\n",
       "      <th>4958</th>\n",
       "      <td>1</td>\n",
       "      <td>0.939790</td>\n",
       "    </tr>\n",
       "    <tr>\n",
       "      <th>...</th>\n",
       "      <td>...</td>\n",
       "      <td>...</td>\n",
       "    </tr>\n",
       "    <tr>\n",
       "      <th>1932</th>\n",
       "      <td>0</td>\n",
       "      <td>0.110623</td>\n",
       "    </tr>\n",
       "    <tr>\n",
       "      <th>414</th>\n",
       "      <td>0</td>\n",
       "      <td>0.116016</td>\n",
       "    </tr>\n",
       "    <tr>\n",
       "      <th>5487</th>\n",
       "      <td>1</td>\n",
       "      <td>0.919258</td>\n",
       "    </tr>\n",
       "    <tr>\n",
       "      <th>2752</th>\n",
       "      <td>0</td>\n",
       "      <td>0.958541</td>\n",
       "    </tr>\n",
       "    <tr>\n",
       "      <th>3837</th>\n",
       "      <td>1</td>\n",
       "      <td>0.905079</td>\n",
       "    </tr>\n",
       "  </tbody>\n",
       "</table>\n",
       "<p>1557 rows × 2 columns</p>\n",
       "</div>"
      ],
      "text/plain": [
       "      valores_reais  valores_previstos\n",
       "1780              0           0.154731\n",
       "2379              0           0.902699\n",
       "3731              1           0.946684\n",
       "6068              1           0.910203\n",
       "4958              1           0.939790\n",
       "...             ...                ...\n",
       "1932              0           0.110623\n",
       "414               0           0.116016\n",
       "5487              1           0.919258\n",
       "2752              0           0.958541\n",
       "3837              1           0.905079\n",
       "\n",
       "[1557 rows x 2 columns]"
      ]
     },
     "execution_count": 109,
     "metadata": {},
     "output_type": "execute_result"
    }
   ],
   "source": [
    "pred_df"
   ]
  },
  {
   "cell_type": "markdown",
   "metadata": {},
   "source": [
    "Um gráfico irá facilitar a análise e compreensão."
   ]
  },
  {
   "cell_type": "code",
   "execution_count": 133,
   "metadata": {},
   "outputs": [
    {
     "data": {
      "image/png": "[encoded data removed]",
      "text/plain": [
       "<Figure size 1296x720 with 1 Axes>"
      ]
     },
     "metadata": {
      "needs_background": "light"
     },
     "output_type": "display_data"
    }
   ],
   "source": [
    "# Plot da Distribuição de Probabilidades\n",
    "\n",
    "# Figura\n",
    "plt.figure(figsize = (18,10))\n",
    "\n",
    "# Histograma dos valores reais x valores previstos para a classe 1\n",
    "plt.hist(pred_df[pred_df['valores_reais'] == 1]['valores_previstos'], \n",
    "         bins = 30, \n",
    "         color = 'r', \n",
    "         alpha = 0.6, \n",
    "         label = 'Venda de Maconha')\n",
    "\n",
    "# Histograma dos valores reais x valores previstos para a classe 0\n",
    "plt.hist(pred_df[pred_df['valores_reais'] == 0]['valores_previstos'],\n",
    "         bins = 30,\n",
    "         color = 'blue',\n",
    "         alpha = 0.6,\n",
    "         label = 'Sem Venda de Maconha')\n",
    "\n",
    "# Linha central do gráfico - vline - vertical line\n",
    "plt.vlines(x = 0.5, ymin = 0, ymax = 200, color = 'green', linestyle = '--')\n",
    "\n",
    "# Labels e Legenda\n",
    "plt.title('\\nDistribuição de Probabilidade\\n', fontsize = 20)\n",
    "plt.ylabel('\\nFrequência\\n', fontsize = 20)\n",
    "plt.xlabel('\\nProbabilidade Prevista de Prisões\\n', fontsize = 18)\n",
    "plt.legend(fontsize = 20);"
   ]
  },
  {
   "cell_type": "markdown",
   "metadata": {},
   "source": [
    "Realizando a análise visual, é possível identificar que o modelo preditivo criado foi capaz de classificar com uma probabilidade boa, perfils de vendedores de maconha ilegal."
   ]
  },
  {
   "cell_type": "markdown",
   "metadata": {},
   "source": [
    "Será que a proximidade de um Departamento de Polícia altera o resultado? Vamos analisar."
   ]
  },
  {
   "cell_type": "code",
   "execution_count": 134,
   "metadata": {},
   "outputs": [],
   "source": [
    "# Extrai os coeficientes por nome da área\n",
    "beta_df = beta_df[beta_df.index.str.contains('Area Name')].head(8)"
   ]
  },
  {
   "cell_type": "code",
   "execution_count": 135,
   "metadata": {},
   "outputs": [
    {
     "data": {
      "text/html": [
       "<div>\n",
       "<style scoped>\n",
       "    .dataframe tbody tr th:only-of-type {\n",
       "        vertical-align: middle;\n",
       "    }\n",
       "\n",
       "    .dataframe tbody tr th {\n",
       "        vertical-align: top;\n",
       "    }\n",
       "\n",
       "    .dataframe thead th {\n",
       "        text-align: right;\n",
       "    }\n",
       "</style>\n",
       "<table border=\"1\" class=\"dataframe\">\n",
       "  <thead>\n",
       "    <tr style=\"text-align: right;\">\n",
       "      <th></th>\n",
       "      <th>beta</th>\n",
       "      <th>log_odds</th>\n",
       "    </tr>\n",
       "    <tr>\n",
       "      <th>atributos</th>\n",
       "      <th></th>\n",
       "      <th></th>\n",
       "    </tr>\n",
       "  </thead>\n",
       "  <tbody>\n",
       "    <tr>\n",
       "      <th>Area Name_Southeast</th>\n",
       "      <td>0.489421</td>\n",
       "      <td>1.631371</td>\n",
       "    </tr>\n",
       "    <tr>\n",
       "      <th>Area Name_Pacific</th>\n",
       "      <td>0.343590</td>\n",
       "      <td>1.410001</td>\n",
       "    </tr>\n",
       "    <tr>\n",
       "      <th>Area Name_Central</th>\n",
       "      <td>0.129792</td>\n",
       "      <td>1.138591</td>\n",
       "    </tr>\n",
       "    <tr>\n",
       "      <th>Area Name_77th Street</th>\n",
       "      <td>0.127493</td>\n",
       "      <td>1.135977</td>\n",
       "    </tr>\n",
       "    <tr>\n",
       "      <th>Area Name_Harbor</th>\n",
       "      <td>0.117278</td>\n",
       "      <td>1.124432</td>\n",
       "    </tr>\n",
       "  </tbody>\n",
       "</table>\n",
       "</div>"
      ],
      "text/plain": [
       "                           beta  log_odds\n",
       "atributos                                \n",
       "Area Name_Southeast    0.489421  1.631371\n",
       "Area Name_Pacific      0.343590  1.410001\n",
       "Area Name_Central      0.129792  1.138591\n",
       "Area Name_77th Street  0.127493  1.135977\n",
       "Area Name_Harbor       0.117278  1.124432"
      ]
     },
     "execution_count": 135,
     "metadata": {},
     "output_type": "execute_result"
    }
   ],
   "source": [
    "# Dados\n",
    "beta_df.head()"
   ]
  },
  {
   "cell_type": "markdown",
   "metadata": {},
   "source": [
    "Os Departamentos de Polícia na cidade de Los Angeles estão registrados aqui:\n",
    "    \n",
    "http://www.lapdonline.org/our_communities/content_basic_view/6279 \n",
    "   \n",
    "Precisamos das coordenadas para os gráficos.\n",
    "\n",
    "Essa coleta poderia ter sido feita utilizando web scrapping."
   ]
  },
  {
   "cell_type": "code",
   "execution_count": 136,
   "metadata": {},
   "outputs": [],
   "source": [
    "# Latitude dos Departamentos de Polícia na cidade de Los Angeles\n",
    "beta_df['latitude'] = [33.9383761,\n",
    "                       34.097986,\n",
    "                       33.9920067,\n",
    "                       34.0443028,\n",
    "                       33.7584097,\n",
    "                       34.050264,\n",
    "                       34.1195162,\n",
    "                       34.1842023]"
   ]
  },
  {
   "cell_type": "code",
   "execution_count": 137,
   "metadata": {},
   "outputs": [],
   "source": [
    "# Longitude dos Departamentos de Polícia na cidade de Los Angeles\n",
    "beta_df['longitude'] = [-118.2749244,\n",
    "                        -118.331013,\n",
    "                        -118.4199295,\n",
    "                        -118.4509833,\n",
    "                        -118.2880336,\n",
    "                        -118.291531,\n",
    "                        -118.2497385,\n",
    "                        -118.3021552]"
   ]
  },
  {
   "cell_type": "code",
   "execution_count": 145,
   "metadata": {},
   "outputs": [
    {
     "data": {
      "text/html": [
       "<div>\n",
       "<style scoped>\n",
       "    .dataframe tbody tr th:only-of-type {\n",
       "        vertical-align: middle;\n",
       "    }\n",
       "\n",
       "    .dataframe tbody tr th {\n",
       "        vertical-align: top;\n",
       "    }\n",
       "\n",
       "    .dataframe thead th {\n",
       "        text-align: right;\n",
       "    }\n",
       "</style>\n",
       "<table border=\"1\" class=\"dataframe\">\n",
       "  <thead>\n",
       "    <tr style=\"text-align: right;\">\n",
       "      <th></th>\n",
       "      <th>beta</th>\n",
       "      <th>log_odds</th>\n",
       "      <th>latitude</th>\n",
       "      <th>longitude</th>\n",
       "    </tr>\n",
       "    <tr>\n",
       "      <th>atributos</th>\n",
       "      <th></th>\n",
       "      <th></th>\n",
       "      <th></th>\n",
       "      <th></th>\n",
       "    </tr>\n",
       "  </thead>\n",
       "  <tbody>\n",
       "    <tr>\n",
       "      <th>Area Name_Southeast</th>\n",
       "      <td>0.489421</td>\n",
       "      <td>1.631371</td>\n",
       "      <td>33.938376</td>\n",
       "      <td>-118.274924</td>\n",
       "    </tr>\n",
       "    <tr>\n",
       "      <th>Area Name_Pacific</th>\n",
       "      <td>0.343590</td>\n",
       "      <td>1.410001</td>\n",
       "      <td>34.097986</td>\n",
       "      <td>-118.331013</td>\n",
       "    </tr>\n",
       "    <tr>\n",
       "      <th>Area Name_Central</th>\n",
       "      <td>0.129792</td>\n",
       "      <td>1.138591</td>\n",
       "      <td>33.992007</td>\n",
       "      <td>-118.419929</td>\n",
       "    </tr>\n",
       "    <tr>\n",
       "      <th>Area Name_77th Street</th>\n",
       "      <td>0.127493</td>\n",
       "      <td>1.135977</td>\n",
       "      <td>34.044303</td>\n",
       "      <td>-118.450983</td>\n",
       "    </tr>\n",
       "    <tr>\n",
       "      <th>Area Name_Harbor</th>\n",
       "      <td>0.117278</td>\n",
       "      <td>1.124432</td>\n",
       "      <td>33.758410</td>\n",
       "      <td>-118.288034</td>\n",
       "    </tr>\n",
       "    <tr>\n",
       "      <th>Area Name_Southwest</th>\n",
       "      <td>0.055373</td>\n",
       "      <td>1.056935</td>\n",
       "      <td>34.050264</td>\n",
       "      <td>-118.291531</td>\n",
       "    </tr>\n",
       "    <tr>\n",
       "      <th>Area Name_Hollywood</th>\n",
       "      <td>0.028771</td>\n",
       "      <td>1.029189</td>\n",
       "      <td>34.119516</td>\n",
       "      <td>-118.249739</td>\n",
       "    </tr>\n",
       "    <tr>\n",
       "      <th>Area Name_Olympic</th>\n",
       "      <td>0.015638</td>\n",
       "      <td>1.015761</td>\n",
       "      <td>34.184202</td>\n",
       "      <td>-118.302155</td>\n",
       "    </tr>\n",
       "  </tbody>\n",
       "</table>\n",
       "</div>"
      ],
      "text/plain": [
       "                           beta  log_odds   latitude   longitude\n",
       "atributos                                                       \n",
       "Area Name_Southeast    0.489421  1.631371  33.938376 -118.274924\n",
       "Area Name_Pacific      0.343590  1.410001  34.097986 -118.331013\n",
       "Area Name_Central      0.129792  1.138591  33.992007 -118.419929\n",
       "Area Name_77th Street  0.127493  1.135977  34.044303 -118.450983\n",
       "Area Name_Harbor       0.117278  1.124432  33.758410 -118.288034\n",
       "Area Name_Southwest    0.055373  1.056935  34.050264 -118.291531\n",
       "Area Name_Hollywood    0.028771  1.029189  34.119516 -118.249739\n",
       "Area Name_Olympic      0.015638  1.015761  34.184202 -118.302155"
      ]
     },
     "execution_count": 145,
     "metadata": {},
     "output_type": "execute_result"
    }
   ],
   "source": [
    "beta_df"
   ]
  },
  {
   "cell_type": "markdown",
   "metadata": {},
   "source": [
    "Criamos o Plot."
   ]
  },
  {
   "cell_type": "code",
   "execution_count": 149,
   "metadata": {},
   "outputs": [
    {
     "data": {
      "image/png": "[encoded data removed]",
      "text/plain": [
       "<Figure size 1296x720 with 1 Axes>"
      ]
     },
     "metadata": {
      "needs_background": "light"
     },
     "output_type": "display_data"
    }
   ],
   "source": [
    "# Plot da classe 1 (prisão por motivo de venda de maconha ilegal) com principais atributos versus Depart Policia\n",
    "\n",
    "# Figura\n",
    "fig, ax = plt.subplots(figsize = (18,10))\n",
    "\n",
    "# Plot\n",
    "plt.scatter(df_prisoes[df_prisoes['target'] == 1]['latitude'], \n",
    "            df_prisoes[df_prisoes['target'] == 1]['longitude'], \n",
    "            s = 25, \n",
    "            alpha = 0.6,\n",
    "            label = 'Locais Prisões Por Venda de Maconha')\n",
    "\n",
    "ax.scatter(beta_df['latitude'], \n",
    "           beta_df['longitude'], \n",
    "           color = 'red', \n",
    "           label = 'Departamentos de Polícia em LA', \n",
    "           s = 100)\n",
    "\n",
    "# Títulos, labels e legenda\n",
    "plt.title('\\nPrisões Por Venda de Maconha x Departamentos de Polícia em LA\\n', fontsize = 24)\n",
    "plt.xlabel('\\nLatitude\\n', fontsize = 20)\n",
    "plt.ylabel('\\nLongitude\\n', fontsize = 20)\n",
    "ax.legend(fontsize = 20)\n",
    "plt.tight_layout()"
   ]
  },
  {
   "cell_type": "code",
   "execution_count": 152,
   "metadata": {
    "scrolled": true
   },
   "outputs": [
    {
     "data": {
      "image/png": "[encoded data removed]",
      "text/plain": [
       "<Figure size 1296x720 with 1 Axes>"
      ]
     },
     "metadata": {
      "needs_background": "light"
     },
     "output_type": "display_data"
    }
   ],
   "source": [
    "# Plot da classe 0 com principais atributos versus prisões por maconha\n",
    "\n",
    "# Figura\n",
    "fig, ax = plt.subplots(figsize = (18,10))\n",
    "\n",
    "# Plot\n",
    "plt.scatter(df_prisoes[df_prisoes['target'] ==0]['latitude'], \n",
    "            df_prisoes[df_prisoes['target'] ==0]['longitude'], \n",
    "            s = 25, \n",
    "            alpha = 0.6,\n",
    "            label = 'Prisões Por Outras Razões')\n",
    "\n",
    "ax.scatter(beta_df['latitude'], \n",
    "           beta_df['longitude'], \n",
    "           color = 'red', \n",
    "           label = 'Departamentos de Polícia em LA', \n",
    "           s = 100)\n",
    "\n",
    "# Títulos, labels e legenda\n",
    "plt.title('\\nPrisões Por Outras Razões x Departamentos de Polícia em LA\\n', fontsize = 24)\n",
    "plt.xlabel('\\nLatitude\\n', fontsize = 20)\n",
    "plt.ylabel('\\nLongitude\\n', fontsize = 20)\n",
    "ax.legend(fontsize = 20)\n",
    "plt.tight_layout()"
   ]
  },
  {
   "cell_type": "markdown",
   "metadata": {},
   "source": [
    "# Resultado Análise:\n",
    "\n",
    "\n",
    "\n",
    "- O modelo criado foi capaz de obter excelentes resultados durante o treinamento e durante a etapa de teste, conseguindo atingir >85% de acurácia em ambos os casos. Baseado nesse fator é válido afirmar que existe um padrão entre as pessoas que vendem maconha de forma ilegal, pois o modelo foi capaz de identificar esse padrão.\n",
    "\n",
    "\n",
    "- A localização de prisões relacionadas a venda de maconha e outros motivos de prisões ocorrem por todo o estado.\n",
    "\n",
    "\n",
    "- O total de prisões relacionado à maconha vem caindo desde 2014, mas no ano de 2017 quando foi legalizado a venda da maconha, houve uma queda brusca no número de prisões relacionadas à maconha.\n",
    "\n",
    "\n",
    "- Não houve aumento de criminalidade em locais próximos a pontos de venda. Para uma resposta mais precisa referente a esse ponto, seria necessário informações de data que as lojas surgiram, assim poderia ser aplicado uma análise cruzando volume de crimes x volume de lojas no tempo.\n",
    "\n",
    "\n",
    "- No gráfico 'prisões x Pontos de Vendas' é possível notar claramente a diminuição da taxa de criminalidade no ano de 2017 para 2018. Vale lembrar que em 2017 o número de pontos de venda legalizado é inferior ao ano de 2018. Os dados aqui apresentados de pontos de vendas se referem a quantidade atual de pontos de vendas.\n",
    "\n",
    "\n",
    "- Houve uma queda brusca no número de prisões próximos à escolas em até 1 minha de distância a partir do ano de 2017 (após a legalização da maconha).\n",
    "\n",
    "\n",
    "- A proximidade das prisões com pontos de vendas ou com escolas não parece variar de um ano para o outro, o que leva a crer que pontos de venda ou escolas não estão ligados às prisões. Logo, podemos levantar como hipótese que não ocorreu o cultivo de maconha próximo a escolas.\n",
    "\n",
    "\n",
    "- A variável **escola_1_milha** é a contagem de escolas que estão dentro de 1 milha de cada prisão efetuada. Devido às chances de log de 'escola_1_milha', ter uma escola a menos de 1,6 km de uma prisão é tão provável quanto a prisão por maconha estar relacionada à venda e a não venda.\n",
    "\n",
    "\n",
    "- Em relação as prisões por tipo de crime, desde 2014 o TOP 5 vem sofrendo alterações e não possui um padrão de prisões rankeado. Os motivos podem ter sofrido alteração pois a lei mudou.\n",
    "\n",
    "\n",
    "- Existem duas classes: vender maconha e não vender maconha, e argumenta-se que a venda de maconha expõe mais crianças à maconha, porém o cigarro também e ninguém fala nada.\n",
    "\n",
    "\n",
    "Aplico como resultado final da minha análise, baseado nos dados aqui obtidos e no cenário aqui exposto, que **NÃO existe relação entre Legalização da Maconho e Aumento da Taxa de Criminalidade ao longo do tempo na cidade Los Angeles**.\n",
    "\n",
    "E Você, É favor ou contra à legalização da Maconha?"
   ]
  }
 ],
 "metadata": {
  "kernelspec": {
   "display_name": "Python 3",
   "language": "python",
   "name": "python3"
  },
  "language_info": {
   "codemirror_mode": {
    "name": "ipython",
    "version": 3
   },
   "file_extension": ".py",
   "mimetype": "text/x-python",
   "name": "python",
   "nbconvert_exporter": "python",
   "pygments_lexer": "ipython3",
   "version": "3.7.3"
  }
 },
 "nbformat": 4,
 "nbformat_minor": 2
}
